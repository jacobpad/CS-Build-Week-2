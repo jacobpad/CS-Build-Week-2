{
  "nbformat": 4,
  "nbformat_minor": 0,
  "metadata": {
    "colab": {
      "name": "CSU2_Leet_Code.ipynb",
      "provenance": [],
      "authorship_tag": "ABX9TyNxA6RKze2yGepk7rejXj+e",
      "include_colab_link": true
    },
    "kernelspec": {
      "name": "python3",
      "display_name": "Python 3"
    }
  },
  "cells": [
    {
      "cell_type": "markdown",
      "metadata": {
        "id": "view-in-github",
        "colab_type": "text"
      },
      "source": [
        "<a href=\"https://colab.research.google.com/github/jacobpad/CS-Build-Week-2/blob/master/CSU2_Leet_Code.ipynb\" target=\"_parent\"><img src=\"https://colab.research.google.com/assets/colab-badge.svg\" alt=\"Open In Colab\"/></a>"
      ]
    },
    {
      "cell_type": "markdown",
      "metadata": {
        "id": "pttWQwR5Xu0B",
        "colab_type": "text"
      },
      "source": [
        "# Monday"
      ]
    },
    {
      "cell_type": "markdown",
      "metadata": {
        "id": "Un1b1lszKOa1",
        "colab_type": "text"
      },
      "source": [
        "## 217. Contains Duplicate - [link](https://leetcode.com/problems/contains-duplicate/submissions/)"
      ]
    },
    {
      "cell_type": "markdown",
      "metadata": {
        "id": "ajEuo7nKJwtY",
        "colab_type": "text"
      },
      "source": [
        "Given an array of integers, find if the array contains any duplicates.\n",
        "\n",
        "Your function should return true if any value appears at least twice in the array, and it should return false if every element is distinct.\n",
        "\n",
        "Example 1:\n",
        "\n",
        "```python\n",
        "Input: [1,2,3,1]\n",
        "Output: true\n",
        "```\n",
        "\n",
        "Example 2:\n",
        "```python\n",
        "Input: [1,2,3,4]\n",
        "Output: false\n",
        "```\n",
        "\n",
        "Example 3:\n",
        "```python\n",
        "Input: [1,1,1,3,3,4,3,2,4,2]\n",
        "Output: true\n",
        "```\n",
        "\n",
        "Starter Code:\n",
        "```python\n",
        "class Solution:\n",
        "    def containsDuplicate(self, nums: List[int]) -> bool:\n",
        "```"
      ]
    },
    {
      "cell_type": "code",
      "metadata": {
        "id": "AWTJKVi3KKOK",
        "colab_type": "code",
        "colab": {
          "base_uri": "https://localhost:8080/",
          "height": 34
        },
        "outputId": "11780053-7137-4a56-97cc-a14725cbac98"
      },
      "source": [
        "class Solution:\n",
        "  def containsDuplicate(self, nums):\n",
        "    \n",
        "    # Use webster to count the duplicates\n",
        "    # Add nums to webster\n",
        "    # Incrament if nums already exists\n",
        "    #   else assign 1\n",
        "    # Return True if any value in webster is greater than 1\n",
        "\n",
        "    webster = {}\n",
        "\n",
        "    for i in nums:\n",
        "      if i in webster:\n",
        "        webster[i] +=1\n",
        "      else:\n",
        "        webster[i] = 1\n",
        "\n",
        "    # key:value... ie. there are 2 1's, 1 2, & 1 3\n",
        "    # print(webster) # {1: 2, 2: 1, 3: 1}\n",
        "\n",
        "    for i in webster.values():\n",
        "      if i > 1:\n",
        "        return True\n",
        "\n",
        "\n",
        "\n",
        "\n",
        "\n",
        "\n",
        "\n",
        "l1 = [1,2,3,1]\n",
        "\n",
        "s = Solution()\n",
        "\n",
        "s.containsDuplicate(l1)"
      ],
      "execution_count": null,
      "outputs": [
        {
          "output_type": "execute_result",
          "data": {
            "text/plain": [
              "True"
            ]
          },
          "metadata": {
            "tags": []
          },
          "execution_count": 1
        }
      ]
    },
    {
      "cell_type": "markdown",
      "metadata": {
        "id": "1duCxpqjZ4Qp",
        "colab_type": "text"
      },
      "source": [
        "## 2. Add Two Numbers - [link](https://leetcode.com/problems/add-two-numbers/submissions/)"
      ]
    },
    {
      "cell_type": "markdown",
      "metadata": {
        "id": "Put-o859aSR-",
        "colab_type": "text"
      },
      "source": [
        "\n",
        "You are given two non-empty linked lists representing two non-negative integers. The digits are stored in reverse order and each of their nodes contain a single digit. Add the two numbers and return it as a linked list.\n",
        "\n",
        "You may assume the two numbers do not contain any leading zero, except the number 0 itself.\n",
        "\n",
        "Example:\n",
        "\n",
        "```\n",
        "Input: (2 -> 4 -> 3) + (5 -> 6 -> 4)\n",
        "Output: 7 -> 0 -> 8\n",
        "Explanation: 342 + 465 = 807.\n",
        "```\n",
        "\n",
        "Starter Code:\n",
        "\n",
        "```python\n",
        "# Definition for singly-linked list.\n",
        "# class ListNode:\n",
        "#     def __init__(self, val=0, next=None):\n",
        "#         self.val = val\n",
        "#         self.next = next\n",
        "class Solution:\n",
        "    def addTwoNumbers(self, l1: ListNode, l2: ListNode) -> ListNode:\n",
        "```        "
      ]
    },
    {
      "cell_type": "code",
      "metadata": {
        "id": "djZpWd_33eyM",
        "colab_type": "code",
        "colab": {}
      },
      "source": [
        "# Definition for singly-linked list.\n",
        "class ListNode:\n",
        "  def __init__(self, val=0, next=None):\n",
        "    self.val = val\n",
        "    self.next = next\n",
        "\n",
        "\n",
        "class Solution:\n",
        "    def addTwoNumbers(self, l1, l2):\n",
        "      carry_over = 0\n",
        "      node1 = l1\n",
        "      node2 = l2\n",
        "      \n",
        "      no_next = False\n",
        "      list_start = None\n",
        "      previous = None\n",
        "      \n",
        "      while no_next == False:\n",
        "        num = node1.val + node2.val\n",
        "        num += carry_over\n",
        "        carry_over = num // 10\n",
        "        num %= 10\n",
        "        \n",
        "        if previous != None:\n",
        "          previous.next = ListNode(num, None)\n",
        "          previous = previous.next\n",
        "            \n",
        "        \n",
        "        if list_start == None:\n",
        "          list_start = ListNode(num, None)\n",
        "          previous = list_start\n",
        "          \n",
        "        \n",
        "        if node1.next == None and node2.next == None and carry_over == 0:\n",
        "          no_next = True\n",
        "            \n",
        "            \n",
        "        if node1.next != None:\n",
        "          node1 = node1.next\n",
        "        else:\n",
        "          node1 = ListNode(0, None)\n",
        "            \n",
        "            \n",
        "        if node2.next != None:\n",
        "          node2 = node2.next\n",
        "        else:\n",
        "          node2 = ListNode(0, None)\n",
        "              \n",
        "      return list_start\n",
        "\n",
        "\n",
        "\n",
        "a = [2,4,3]\n",
        "b = [5,6,4]\n",
        "\n",
        "p = Solution()\n",
        "p.addTwoNumbers(a,b)"
      ],
      "execution_count": null,
      "outputs": []
    },
    {
      "cell_type": "markdown",
      "metadata": {
        "id": "BY43_qlXKaGT",
        "colab_type": "text"
      },
      "source": [
        "# Tuesday "
      ]
    },
    {
      "cell_type": "markdown",
      "metadata": {
        "id": "G8KlF9p_MxFj",
        "colab_type": "text"
      },
      "source": [
        "## 1. Two Sum - [link](https://leetcode.com/problems/two-sum/submissions/) "
      ]
    },
    {
      "cell_type": "code",
      "metadata": {
        "colab_type": "code",
        "id": "8KLRQ7jz-xi5",
        "colab": {
          "base_uri": "https://localhost:8080/",
          "height": 50
        },
        "outputId": "d99816da-efaf-48f4-fdf2-7b04a4ccd9b5"
      },
      "source": [
        "# O(n)\n",
        "\n",
        "def two_sum(nums, target):\n",
        "\n",
        "  # init webster\n",
        "  webster = {}\n",
        "\n",
        "  for key, value in enumerate(nums): # key = 0, value = 2\n",
        "    comp = target - value # compliment of 2 with the target is 7\n",
        "                          # comp = 9 - 2\n",
        "                          # comp = 7\n",
        "\n",
        "    if comp in webster: # It starts out empty\n",
        "\n",
        "      return [webster[comp], key] # nothing to return\n",
        "\n",
        "    webster[value] = key # webster = {2:0} \n",
        "                         # The index location of nums that add to make target \n",
        "\n",
        "  return [] # If it doesn't exist, return empty list\n",
        "\n",
        "################################################################################\n",
        "nums = [2,7,11,15]\n",
        "target = 9\n",
        "\n",
        "lst1 = two_sum(nums, target)\n",
        "print(lst1)\n",
        "\n",
        "print('-'*50)\n",
        "\n",
        "# nums2 = [8,4,1,0,9]\n",
        "# target2 = 17\n",
        "\n",
        "# lst2 = two_sum(nums2, target2)\n",
        "# print(lst2)\n",
        "\n",
        "# print('-'*50)"
      ],
      "execution_count": null,
      "outputs": [
        {
          "output_type": "stream",
          "text": [
            "[0, 1]\n",
            "--------------------------------------------------\n"
          ],
          "name": "stdout"
        }
      ]
    },
    {
      "cell_type": "markdown",
      "metadata": {
        "id": "xMYVHhKRN4ma",
        "colab_type": "text"
      },
      "source": [
        "## 232. Implement Queue using Stacks - [link](https://leetcode.com/problems/implement-queue-using-stacks/)"
      ]
    },
    {
      "cell_type": "code",
      "metadata": {
        "id": "vOPPPirtOCvc",
        "colab_type": "code",
        "colab": {}
      },
      "source": [
        "class MyQueue:\n",
        "\n",
        "    def __init__(self):\n",
        "        \"\"\"\n",
        "        Initialize your data structure here.\n",
        "        \"\"\"\n",
        "        self.size = 0\n",
        "        self.storage = []\n",
        "\n",
        "    def push(self, x: int) -> None:\n",
        "        \"\"\"\n",
        "        Push element x to the back of queue.\n",
        "        \"\"\"\n",
        "        self.storage.append(x)\n",
        "        self.size += 1        \n",
        "\n",
        "    def pop(self) -> int:\n",
        "        \"\"\"\n",
        "        Removes the element from in front of queue and returns that element.\n",
        "        \"\"\"\n",
        "        self.size -= 1\n",
        "        return self.storage.pop(0)                \n",
        "\n",
        "    def peek(self) -> int:\n",
        "        \"\"\"\n",
        "        Get the front element.\n",
        "        \"\"\"\n",
        "        return self.storage[0]        \n",
        "\n",
        "    def empty(self) -> bool:\n",
        "        \"\"\"\n",
        "        Returns whether the queue is empty.\n",
        "        \"\"\"\n",
        "        if self.size == 0:\n",
        "          return True\n",
        "        \n",
        "\n",
        "# Your MyQueue object will be instantiated and called as such:\n",
        "# obj = MyQueue()\n",
        "# obj.push(x)\n",
        "# param_2 = obj.pop()\n",
        "# param_3 = obj.peek()\n",
        "# param_4 = obj.empty()\n",
        "\n",
        "\n",
        "######################COULD NOT FIGURE THIS OUT###############################\n",
        "# class MyQueue:\n",
        "\n",
        "#     def __init__(self):\n",
        "#         \"\"\"\n",
        "#         Initialize your data structure here.\n",
        "#         \"\"\"\n",
        "#         # self.size = 0\n",
        "#         self.first = [] \n",
        "#         self.second = [] \n",
        "\n",
        "\n",
        "#     def push(self, x: int) -> None:\n",
        "#         \"\"\"\n",
        "#         Push element x to the back of queue.\n",
        "#         \"\"\"\n",
        "#         self.first.append(x);\n",
        "        \n",
        "\n",
        "#     def pop(self) -> int:\n",
        "#         \"\"\"\n",
        "#         Removes the element from in front of queue and returns that element.\n",
        "#         \"\"\"\n",
        "#         if not self.second:\n",
        "#             while self.first:\n",
        "#                 self.second.append(self.first.pop());\n",
        "#         return self.second.pop();\n",
        "        \n",
        "\n",
        "#     def peek(self) -> int:\n",
        "#         \"\"\"\n",
        "#         Get the front element.\n",
        "#         \"\"\"\n",
        "#         if not self.second:\n",
        "#             while self.first:\n",
        "#                 self.second.append(self.first.pop());\n",
        "#         return self.second[len(self.second)-1];\n",
        "\n",
        "        \n",
        "\n",
        "#     def empty(self) -> bool:\n",
        "#         \"\"\"\n",
        "#         Returns whether the queue is empty.\n",
        "#         \"\"\"\n",
        "#         # if self.size == 0:\n",
        "#         #   return True\n",
        "        \n",
        "\n",
        "# # Your MyQueue object will be instantiated and called as such:\n",
        "# # obj = MyQueue()\n",
        "# # obj.push(x)\n",
        "# # param_2 = obj.pop()\n",
        "# # param_3 = obj.peek()\n",
        "# # param_4 = obj.empty()"
      ],
      "execution_count": null,
      "outputs": []
    }
  ]
}